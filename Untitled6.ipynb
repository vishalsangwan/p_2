{
  "nbformat": 4,
  "nbformat_minor": 0,
  "metadata": {
    "colab": {
      "name": "Untitled6.ipynb",
      "version": "0.3.2",
      "provenance": [],
      "include_colab_link": true
    },
    "kernelspec": {
      "name": "python3",
      "display_name": "Python 3"
    }
  },
  "cells": [
    {
      "cell_type": "markdown",
      "metadata": {
        "id": "view-in-github",
        "colab_type": "text"
      },
      "source": [
        "[View in Colaboratory](https://colab.research.google.com/github/vishalsangwan/p_2/blob/master/Untitled6.ipynb)"
      ]
    },
    {
      "metadata": {
        "id": "C_6LgLQvYOu3",
        "colab_type": "code",
        "colab": {}
      },
      "cell_type": "code",
      "source": [
        "import numpy as np\n",
        "import pandas as pd\n",
        "import matplotlib.pyplot as plt"
      ],
      "execution_count": 0,
      "outputs": []
    },
    {
      "metadata": {
        "id": "6DctYPvtZujU",
        "colab_type": "code",
        "colab": {}
      },
      "cell_type": "code",
      "source": [
        "%matplotlib inline"
      ],
      "execution_count": 0,
      "outputs": []
    },
    {
      "metadata": {
        "id": "B-ToRDW5ZZST",
        "colab_type": "code",
        "colab": {}
      },
      "cell_type": "code",
      "source": [
        "df = pd.read_csv(\"https://raw.githubusercontent.com/guipsamora/pandas_exercises/master/06_Stats/US_Baby_Names/US_Baby_Names_right.csv\")"
      ],
      "execution_count": 0,
      "outputs": []
    },
    {
      "metadata": {
        "id": "asbMjJqiZfgy",
        "colab_type": "code",
        "colab": {
          "base_uri": "https://localhost:8080/",
          "height": 198
        },
        "outputId": "63f6256b-026a-473b-85d3-1b42cdd734af"
      },
      "cell_type": "code",
      "source": [
        "df.head()"
      ],
      "execution_count": 150,
      "outputs": [
        {
          "output_type": "execute_result",
          "data": {
            "text/html": [
              "<div>\n",
              "<style scoped>\n",
              "    .dataframe tbody tr th:only-of-type {\n",
              "        vertical-align: middle;\n",
              "    }\n",
              "\n",
              "    .dataframe tbody tr th {\n",
              "        vertical-align: top;\n",
              "    }\n",
              "\n",
              "    .dataframe thead th {\n",
              "        text-align: right;\n",
              "    }\n",
              "</style>\n",
              "<table border=\"1\" class=\"dataframe\">\n",
              "  <thead>\n",
              "    <tr style=\"text-align: right;\">\n",
              "      <th></th>\n",
              "      <th>Unnamed: 0</th>\n",
              "      <th>Id</th>\n",
              "      <th>Name</th>\n",
              "      <th>Year</th>\n",
              "      <th>Gender</th>\n",
              "      <th>State</th>\n",
              "      <th>Count</th>\n",
              "    </tr>\n",
              "  </thead>\n",
              "  <tbody>\n",
              "    <tr>\n",
              "      <th>0</th>\n",
              "      <td>11349</td>\n",
              "      <td>11350</td>\n",
              "      <td>Emma</td>\n",
              "      <td>2004</td>\n",
              "      <td>F</td>\n",
              "      <td>AK</td>\n",
              "      <td>62</td>\n",
              "    </tr>\n",
              "    <tr>\n",
              "      <th>1</th>\n",
              "      <td>11350</td>\n",
              "      <td>11351</td>\n",
              "      <td>Madison</td>\n",
              "      <td>2004</td>\n",
              "      <td>F</td>\n",
              "      <td>AK</td>\n",
              "      <td>48</td>\n",
              "    </tr>\n",
              "    <tr>\n",
              "      <th>2</th>\n",
              "      <td>11351</td>\n",
              "      <td>11352</td>\n",
              "      <td>Hannah</td>\n",
              "      <td>2004</td>\n",
              "      <td>F</td>\n",
              "      <td>AK</td>\n",
              "      <td>46</td>\n",
              "    </tr>\n",
              "    <tr>\n",
              "      <th>3</th>\n",
              "      <td>11352</td>\n",
              "      <td>11353</td>\n",
              "      <td>Grace</td>\n",
              "      <td>2004</td>\n",
              "      <td>F</td>\n",
              "      <td>AK</td>\n",
              "      <td>44</td>\n",
              "    </tr>\n",
              "    <tr>\n",
              "      <th>4</th>\n",
              "      <td>11353</td>\n",
              "      <td>11354</td>\n",
              "      <td>Emily</td>\n",
              "      <td>2004</td>\n",
              "      <td>F</td>\n",
              "      <td>AK</td>\n",
              "      <td>41</td>\n",
              "    </tr>\n",
              "  </tbody>\n",
              "</table>\n",
              "</div>"
            ],
            "text/plain": [
              "   Unnamed: 0     Id     Name  Year Gender State  Count\n",
              "0       11349  11350     Emma  2004      F    AK     62\n",
              "1       11350  11351  Madison  2004      F    AK     48\n",
              "2       11351  11352   Hannah  2004      F    AK     46\n",
              "3       11352  11353    Grace  2004      F    AK     44\n",
              "4       11353  11354    Emily  2004      F    AK     41"
            ]
          },
          "metadata": {
            "tags": []
          },
          "execution_count": 150
        }
      ]
    },
    {
      "metadata": {
        "id": "2Hlz0NfAar6K",
        "colab_type": "text"
      },
      "cell_type": "markdown",
      "source": [
        "### Deleting the column unnamed"
      ]
    },
    {
      "metadata": {
        "id": "3aeNxYBLZhnA",
        "colab_type": "code",
        "colab": {}
      },
      "cell_type": "code",
      "source": [
        "df.drop(\"Unnamed: 0\", axis = 1, inplace = True)"
      ],
      "execution_count": 0,
      "outputs": []
    },
    {
      "metadata": {
        "id": "Tuhrku_qiSMv",
        "colab_type": "text"
      },
      "cell_type": "markdown",
      "source": [
        "### Show the distribution of male and female"
      ]
    },
    {
      "metadata": {
        "id": "MNO7F1cAaUj4",
        "colab_type": "code",
        "colab": {}
      },
      "cell_type": "code",
      "source": [
        "a = df.groupby([\"Gender\"])"
      ],
      "execution_count": 0,
      "outputs": []
    },
    {
      "metadata": {
        "id": "Eu8REYPMY_Cy",
        "colab_type": "code",
        "colab": {
          "base_uri": "https://localhost:8080/",
          "height": 35
        },
        "outputId": "387e2f87-6afc-47d1-e823-a30bfad4a0dc"
      },
      "cell_type": "code",
      "source": [
        "a.get_group(\"F\").Count.sum()"
      ],
      "execution_count": 153,
      "outputs": [
        {
          "output_type": "execute_result",
          "data": {
            "text/plain": [
              "16380293"
            ]
          },
          "metadata": {
            "tags": []
          },
          "execution_count": 153
        }
      ]
    },
    {
      "metadata": {
        "id": "Z-BDDtKSrZcw",
        "colab_type": "code",
        "colab": {
          "base_uri": "https://localhost:8080/",
          "height": 35
        },
        "outputId": "09a12452-470f-48d4-948a-4f878b2e68a5"
      },
      "cell_type": "code",
      "source": [
        "a.get_group(\"M\").Count.sum()"
      ],
      "execution_count": 154,
      "outputs": [
        {
          "output_type": "execute_result",
          "data": {
            "text/plain": [
              "19041199"
            ]
          },
          "metadata": {
            "tags": []
          },
          "execution_count": 154
        }
      ]
    },
    {
      "metadata": {
        "id": "qr6tIgaAZRqm",
        "colab_type": "code",
        "colab": {
          "base_uri": "https://localhost:8080/",
          "height": 303
        },
        "outputId": "7ce9bf14-f0b0-4306-cd2b-4b439ed72ee4"
      },
      "cell_type": "code",
      "source": [
        "plt.pie([a.get_group(\"F\").Count.sum(),a.get_group(\"M\").Count.sum()], labels = [\"female\",\"male\"])"
      ],
      "execution_count": 155,
      "outputs": [
        {
          "output_type": "execute_result",
          "data": {
            "text/plain": [
              "([<matplotlib.patches.Wedge at 0x7f0ec29d1e80>,\n",
              "  <matplotlib.patches.Wedge at 0x7f0ec29c6b70>],\n",
              " [Text(0.129499,1.09235,'female'), Text(-0.129499,-1.09235,'male')])"
            ]
          },
          "metadata": {
            "tags": []
          },
          "execution_count": 155
        },
        {
          "output_type": "display_data",
          "data": {
            "image/png": "[encoded data removed]",
            "text/plain": [
              "<matplotlib.figure.Figure at 0x7f0eba624eb8>"
            ]
          },
          "metadata": {
            "tags": []
          }
        }
      ]
    },
    {
      "metadata": {
        "id": "Icnpr0xCdeiM",
        "colab_type": "code",
        "colab": {
          "base_uri": "https://localhost:8080/",
          "height": 295
        },
        "outputId": "f76ec3d3-73d1-4da9-f2f0-48e109112afc"
      },
      "cell_type": "code",
      "source": [
        "plt.bar( height =[a.get_group(\"F\").Count.sum(),a.get_group(\"M\").Count.sum()], x= [\"female\",\"male\"],color=[\"blue\",\"green\"])"
      ],
      "execution_count": 156,
      "outputs": [
        {
          "output_type": "execute_result",
          "data": {
            "text/plain": [
              "<Container object of 2 artists>"
            ]
          },
          "metadata": {
            "tags": []
          },
          "execution_count": 156
        },
        {
          "output_type": "display_data",
          "data": {
            "image/png": "[encoded data removed]",
            "text/plain": [
              "<matplotlib.figure.Figure at 0x7f0ec2556390>"
            ]
          },
          "metadata": {
            "tags": []
          }
        }
      ]
    },
    {
      "metadata": {
        "id": "xMihLM6Pea40",
        "colab_type": "text"
      },
      "cell_type": "markdown",
      "source": [
        "### Top 5 most preffered names"
      ]
    },
    {
      "metadata": {
        "id": "qZ2rD4SUsHmR",
        "colab_type": "code",
        "colab": {
          "base_uri": "https://localhost:8080/",
          "height": 35
        },
        "outputId": "d6894206-6d34-4235-f99a-7eec389b655f"
      },
      "cell_type": "code",
      "source": [
        "len(df.Name.unique())"
      ],
      "execution_count": 157,
      "outputs": [
        {
          "output_type": "execute_result",
          "data": {
            "text/plain": [
              "17632"
            ]
          },
          "metadata": {
            "tags": []
          },
          "execution_count": 157
        }
      ]
    },
    {
      "metadata": {
        "id": "-oIeVCi-ee8K",
        "colab_type": "code",
        "colab": {}
      },
      "cell_type": "code",
      "source": [
        "b = df.groupby(\"Name\")[\"Count\"].sum()"
      ],
      "execution_count": 0,
      "outputs": []
    },
    {
      "metadata": {
        "id": "KffHm-NlehsM",
        "colab_type": "code",
        "colab": {
          "base_uri": "https://localhost:8080/",
          "height": 145
        },
        "outputId": "5ddd6fed-0fc5-4ed5-c2a0-20580595c99b"
      },
      "cell_type": "code",
      "source": [
        "b.sort_values(ascending=False).head(5)"
      ],
      "execution_count": 159,
      "outputs": [
        {
          "output_type": "execute_result",
          "data": {
            "text/plain": [
              "Name\n",
              "Jacob       242874\n",
              "Emma        214852\n",
              "Michael     214405\n",
              "Ethan       209277\n",
              "Isabella    204798\n",
              "Name: Count, dtype: int64"
            ]
          },
          "metadata": {
            "tags": []
          },
          "execution_count": 159
        }
      ]
    },
    {
      "metadata": {
        "id": "RixN-zqVfVXJ",
        "colab_type": "code",
        "colab": {}
      },
      "cell_type": "code",
      "source": [
        ""
      ],
      "execution_count": 0,
      "outputs": []
    },
    {
      "metadata": {
        "id": "fHbF8uQXgUgP",
        "colab_type": "text"
      },
      "cell_type": "markdown",
      "source": [
        "### What is the median name occurence in the dataset"
      ]
    },
    {
      "metadata": {
        "id": "diyqmAmO0Ii1",
        "colab_type": "text"
      },
      "cell_type": "markdown",
      "source": [
        "while considering the count column in dataset that is median of total names"
      ]
    },
    {
      "metadata": {
        "id": "bng7h3mbgVXi",
        "colab_type": "code",
        "colab": {
          "base_uri": "https://localhost:8080/",
          "height": 35
        },
        "outputId": "14de9b6f-5160-4123-dd25-ab8f6d9d1ea5"
      },
      "cell_type": "code",
      "source": [
        "b.median()"
      ],
      "execution_count": 175,
      "outputs": [
        {
          "output_type": "execute_result",
          "data": {
            "text/plain": [
              "49.0"
            ]
          },
          "metadata": {
            "tags": []
          },
          "execution_count": 175
        }
      ]
    },
    {
      "metadata": {
        "id": "5vKdBQK6gcxC",
        "colab_type": "code",
        "colab": {
          "base_uri": "https://localhost:8080/",
          "height": 1163
        },
        "outputId": "17721124-f6c3-48bc-a911-2f79b2636759"
      },
      "cell_type": "code",
      "source": [
        "b[b==49]"
      ],
      "execution_count": 168,
      "outputs": [
        {
          "output_type": "execute_result",
          "data": {
            "text/plain": [
              "Name\n",
              "Aishani       49\n",
              "Alara         49\n",
              "Alysse        49\n",
              "Ameir         49\n",
              "Anely         49\n",
              "Antonina      49\n",
              "Aveline       49\n",
              "Aziah         49\n",
              "Baily         49\n",
              "Caleah        49\n",
              "Carlota       49\n",
              "Cristine      49\n",
              "Dahlila       49\n",
              "Darvin        49\n",
              "Deante        49\n",
              "Deserae       49\n",
              "Devean        49\n",
              "Elizah        49\n",
              "Emmaly        49\n",
              "Emmanuela     49\n",
              "Envy          49\n",
              "Esli          49\n",
              "Fay           49\n",
              "Gurshaan      49\n",
              "Hareem        49\n",
              "Iven          49\n",
              "Jaice         49\n",
              "Jaiyana       49\n",
              "Jamiracle     49\n",
              "Jelissa       49\n",
              "              ..\n",
              "Kyndle        49\n",
              "Kynsley       49\n",
              "Leylanie      49\n",
              "Maisha        49\n",
              "Malillany     49\n",
              "Mariann       49\n",
              "Marquell      49\n",
              "Maurilio      49\n",
              "Mckynzie      49\n",
              "Mehdi         49\n",
              "Nabeel        49\n",
              "Nalleli       49\n",
              "Nassir        49\n",
              "Nazier        49\n",
              "Nishant       49\n",
              "Rebecka       49\n",
              "Reghan        49\n",
              "Ridwan        49\n",
              "Riot          49\n",
              "Rubin         49\n",
              "Ryatt         49\n",
              "Sameera       49\n",
              "Sanjuanita    49\n",
              "Shalyn        49\n",
              "Skylie        49\n",
              "Sriram        49\n",
              "Trinton       49\n",
              "Vita          49\n",
              "Yoni          49\n",
              "Zuleima       49\n",
              "Name: Count, Length: 66, dtype: int64"
            ]
          },
          "metadata": {
            "tags": []
          },
          "execution_count": 168
        }
      ]
    },
    {
      "metadata": {
        "id": "EwS6iaa-0Vvv",
        "colab_type": "text"
      },
      "cell_type": "markdown",
      "source": [
        "while considering column Name only not taking the account of count column in dataframe"
      ]
    },
    {
      "metadata": {
        "id": "C3edrVEKhlf3",
        "colab_type": "code",
        "colab": {}
      },
      "cell_type": "code",
      "source": [
        "c = df.groupby(\"Name\")[\"Name\"].count().median()"
      ],
      "execution_count": 0,
      "outputs": []
    },
    {
      "metadata": {
        "id": "PiRgsvgOyOvg",
        "colab_type": "code",
        "colab": {}
      },
      "cell_type": "code",
      "source": [
        "d= df.groupby(\"Name\")[\"Name\"].count()"
      ],
      "execution_count": 0,
      "outputs": []
    },
    {
      "metadata": {
        "id": "LU-85tSPzoHo",
        "colab_type": "code",
        "colab": {
          "base_uri": "https://localhost:8080/",
          "height": 1163
        },
        "outputId": "56c40f84-19eb-41a2-906b-5c6dc0296591"
      },
      "cell_type": "code",
      "source": [
        "d[d==c]"
      ],
      "execution_count": 185,
      "outputs": [
        {
          "output_type": "execute_result",
          "data": {
            "text/plain": [
              "Name\n",
              "Abubakar     8\n",
              "Adelie       8\n",
              "Adira        8\n",
              "Adylene      8\n",
              "Aerial       8\n",
              "Aidric       8\n",
              "Akari        8\n",
              "Alaiya       8\n",
              "Alara        8\n",
              "Alazay       8\n",
              "Alder        8\n",
              "Aleana       8\n",
              "Aleksey      8\n",
              "Alin         8\n",
              "Alliana      8\n",
              "Alon         8\n",
              "Alyn         8\n",
              "Alysse       8\n",
              "Amaryllis    8\n",
              "Ambree       8\n",
              "Ameir        8\n",
              "Amer         8\n",
              "Amyri        8\n",
              "Andrae       8\n",
              "Andriana     8\n",
              "Anely        8\n",
              "Annahi       8\n",
              "Annel        8\n",
              "Anshul       8\n",
              "Anthoni      8\n",
              "            ..\n",
              "Tuff         8\n",
              "Vanna        8\n",
              "Vlad         8\n",
              "Waseem       8\n",
              "Willian      8\n",
              "Woodrow      8\n",
              "Xitlalli     8\n",
              "Xzander      8\n",
              "Yaira        8\n",
              "Yakira       8\n",
              "Yanni        8\n",
              "Yanuel       8\n",
              "Yared        8\n",
              "Yaritzi      8\n",
              "Yishai       8\n",
              "Yliana       8\n",
              "Yoni         8\n",
              "Yonis        8\n",
              "Ysabelle     8\n",
              "Yudith       8\n",
              "Yug          8\n",
              "Yuliza       8\n",
              "Yunuen       8\n",
              "Yvanna       8\n",
              "Zakia        8\n",
              "Zamaya       8\n",
              "Zanaya       8\n",
              "Zari         8\n",
              "Zaylie       8\n",
              "Zyanna       8\n",
              "Name: Name, Length: 360, dtype: int64"
            ]
          },
          "metadata": {
            "tags": []
          },
          "execution_count": 185
        }
      ]
    },
    {
      "metadata": {
        "id": "s32v5TBwz_Kw",
        "colab_type": "code",
        "colab": {}
      },
      "cell_type": "code",
      "source": [
        ""
      ],
      "execution_count": 0,
      "outputs": []
    },
    {
      "metadata": {
        "id": "3-UACrVC0o0a",
        "colab_type": "text"
      },
      "cell_type": "markdown",
      "source": [
        "### Distribution of male and female born count by states"
      ]
    },
    {
      "metadata": {
        "id": "MXShQ-ev0vrq",
        "colab_type": "code",
        "colab": {
          "base_uri": "https://localhost:8080/",
          "height": 1937
        },
        "outputId": "d9836d27-92d1-4701-f24d-0b77b92e61d0"
      },
      "cell_type": "code",
      "source": [
        "df.groupby([\"Gender\",\"State\"]).count()"
      ],
      "execution_count": 189,
      "outputs": [
        {
          "output_type": "execute_result",
          "data": {
            "text/html": [
              "<div>\n",
              "<style scoped>\n",
              "    .dataframe tbody tr th:only-of-type {\n",
              "        vertical-align: middle;\n",
              "    }\n",
              "\n",
              "    .dataframe tbody tr th {\n",
              "        vertical-align: top;\n",
              "    }\n",
              "\n",
              "    .dataframe thead th {\n",
              "        text-align: right;\n",
              "    }\n",
              "</style>\n",
              "<table border=\"1\" class=\"dataframe\">\n",
              "  <thead>\n",
              "    <tr style=\"text-align: right;\">\n",
              "      <th></th>\n",
              "      <th></th>\n",
              "      <th>Id</th>\n",
              "      <th>Name</th>\n",
              "      <th>Year</th>\n",
              "      <th>Count</th>\n",
              "    </tr>\n",
              "    <tr>\n",
              "      <th>Gender</th>\n",
              "      <th>State</th>\n",
              "      <th></th>\n",
              "      <th></th>\n",
              "      <th></th>\n",
              "      <th></th>\n",
              "    </tr>\n",
              "  </thead>\n",
              "  <tbody>\n",
              "    <tr>\n",
              "      <th rowspan=\"30\" valign=\"top\">F</th>\n",
              "      <th>AK</th>\n",
              "      <td>2404</td>\n",
              "      <td>2404</td>\n",
              "      <td>2404</td>\n",
              "      <td>2404</td>\n",
              "    </tr>\n",
              "    <tr>\n",
              "      <th>AL</th>\n",
              "      <td>9878</td>\n",
              "      <td>9878</td>\n",
              "      <td>9878</td>\n",
              "      <td>9878</td>\n",
              "    </tr>\n",
              "    <tr>\n",
              "      <th>AR</th>\n",
              "      <td>7171</td>\n",
              "      <td>7171</td>\n",
              "      <td>7171</td>\n",
              "      <td>7171</td>\n",
              "    </tr>\n",
              "    <tr>\n",
              "      <th>AZ</th>\n",
              "      <td>14518</td>\n",
              "      <td>14518</td>\n",
              "      <td>14518</td>\n",
              "      <td>14518</td>\n",
              "    </tr>\n",
              "    <tr>\n",
              "      <th>CA</th>\n",
              "      <td>45144</td>\n",
              "      <td>45144</td>\n",
              "      <td>45144</td>\n",
              "      <td>45144</td>\n",
              "    </tr>\n",
              "    <tr>\n",
              "      <th>CO</th>\n",
              "      <td>11424</td>\n",
              "      <td>11424</td>\n",
              "      <td>11424</td>\n",
              "      <td>11424</td>\n",
              "    </tr>\n",
              "    <tr>\n",
              "      <th>CT</th>\n",
              "      <td>6575</td>\n",
              "      <td>6575</td>\n",
              "      <td>6575</td>\n",
              "      <td>6575</td>\n",
              "    </tr>\n",
              "    <tr>\n",
              "      <th>DC</th>\n",
              "      <td>3053</td>\n",
              "      <td>3053</td>\n",
              "      <td>3053</td>\n",
              "      <td>3053</td>\n",
              "    </tr>\n",
              "    <tr>\n",
              "      <th>DE</th>\n",
              "      <td>2549</td>\n",
              "      <td>2549</td>\n",
              "      <td>2549</td>\n",
              "      <td>2549</td>\n",
              "    </tr>\n",
              "    <tr>\n",
              "      <th>FL</th>\n",
              "      <td>25781</td>\n",
              "      <td>25781</td>\n",
              "      <td>25781</td>\n",
              "      <td>25781</td>\n",
              "    </tr>\n",
              "    <tr>\n",
              "      <th>GA</th>\n",
              "      <td>19385</td>\n",
              "      <td>19385</td>\n",
              "      <td>19385</td>\n",
              "      <td>19385</td>\n",
              "    </tr>\n",
              "    <tr>\n",
              "      <th>HI</th>\n",
              "      <td>3255</td>\n",
              "      <td>3255</td>\n",
              "      <td>3255</td>\n",
              "      <td>3255</td>\n",
              "    </tr>\n",
              "    <tr>\n",
              "      <th>IA</th>\n",
              "      <td>7131</td>\n",
              "      <td>7131</td>\n",
              "      <td>7131</td>\n",
              "      <td>7131</td>\n",
              "    </tr>\n",
              "    <tr>\n",
              "      <th>ID</th>\n",
              "      <td>4918</td>\n",
              "      <td>4918</td>\n",
              "      <td>4918</td>\n",
              "      <td>4918</td>\n",
              "    </tr>\n",
              "    <tr>\n",
              "      <th>IL</th>\n",
              "      <td>21268</td>\n",
              "      <td>21268</td>\n",
              "      <td>21268</td>\n",
              "      <td>21268</td>\n",
              "    </tr>\n",
              "    <tr>\n",
              "      <th>IN</th>\n",
              "      <td>13056</td>\n",
              "      <td>13056</td>\n",
              "      <td>13056</td>\n",
              "      <td>13056</td>\n",
              "    </tr>\n",
              "    <tr>\n",
              "      <th>KS</th>\n",
              "      <td>7753</td>\n",
              "      <td>7753</td>\n",
              "      <td>7753</td>\n",
              "      <td>7753</td>\n",
              "    </tr>\n",
              "    <tr>\n",
              "      <th>KY</th>\n",
              "      <td>8817</td>\n",
              "      <td>8817</td>\n",
              "      <td>8817</td>\n",
              "      <td>8817</td>\n",
              "    </tr>\n",
              "    <tr>\n",
              "      <th>LA</th>\n",
              "      <td>10510</td>\n",
              "      <td>10510</td>\n",
              "      <td>10510</td>\n",
              "      <td>10510</td>\n",
              "    </tr>\n",
              "    <tr>\n",
              "      <th>MA</th>\n",
              "      <td>10580</td>\n",
              "      <td>10580</td>\n",
              "      <td>10580</td>\n",
              "      <td>10580</td>\n",
              "    </tr>\n",
              "    <tr>\n",
              "      <th>MD</th>\n",
              "      <td>11276</td>\n",
              "      <td>11276</td>\n",
              "      <td>11276</td>\n",
              "      <td>11276</td>\n",
              "    </tr>\n",
              "    <tr>\n",
              "      <th>ME</th>\n",
              "      <td>2976</td>\n",
              "      <td>2976</td>\n",
              "      <td>2976</td>\n",
              "      <td>2976</td>\n",
              "    </tr>\n",
              "    <tr>\n",
              "      <th>MI</th>\n",
              "      <td>16038</td>\n",
              "      <td>16038</td>\n",
              "      <td>16038</td>\n",
              "      <td>16038</td>\n",
              "    </tr>\n",
              "    <tr>\n",
              "      <th>MN</th>\n",
              "      <td>10677</td>\n",
              "      <td>10677</td>\n",
              "      <td>10677</td>\n",
              "      <td>10677</td>\n",
              "    </tr>\n",
              "    <tr>\n",
              "      <th>MO</th>\n",
              "      <td>11948</td>\n",
              "      <td>11948</td>\n",
              "      <td>11948</td>\n",
              "      <td>11948</td>\n",
              "    </tr>\n",
              "    <tr>\n",
              "      <th>MS</th>\n",
              "      <td>7235</td>\n",
              "      <td>7235</td>\n",
              "      <td>7235</td>\n",
              "      <td>7235</td>\n",
              "    </tr>\n",
              "    <tr>\n",
              "      <th>MT</th>\n",
              "      <td>2690</td>\n",
              "      <td>2690</td>\n",
              "      <td>2690</td>\n",
              "      <td>2690</td>\n",
              "    </tr>\n",
              "    <tr>\n",
              "      <th>NC</th>\n",
              "      <td>17357</td>\n",
              "      <td>17357</td>\n",
              "      <td>17357</td>\n",
              "      <td>17357</td>\n",
              "    </tr>\n",
              "    <tr>\n",
              "      <th>ND</th>\n",
              "      <td>2399</td>\n",
              "      <td>2399</td>\n",
              "      <td>2399</td>\n",
              "      <td>2399</td>\n",
              "    </tr>\n",
              "    <tr>\n",
              "      <th>NE</th>\n",
              "      <td>5370</td>\n",
              "      <td>5370</td>\n",
              "      <td>5370</td>\n",
              "      <td>5370</td>\n",
              "    </tr>\n",
              "    <tr>\n",
              "      <th>...</th>\n",
              "      <th>...</th>\n",
              "      <td>...</td>\n",
              "      <td>...</td>\n",
              "      <td>...</td>\n",
              "      <td>...</td>\n",
              "    </tr>\n",
              "    <tr>\n",
              "      <th rowspan=\"30\" valign=\"top\">M</th>\n",
              "      <th>ME</th>\n",
              "      <td>2777</td>\n",
              "      <td>2777</td>\n",
              "      <td>2777</td>\n",
              "      <td>2777</td>\n",
              "    </tr>\n",
              "    <tr>\n",
              "      <th>MI</th>\n",
              "      <td>13243</td>\n",
              "      <td>13243</td>\n",
              "      <td>13243</td>\n",
              "      <td>13243</td>\n",
              "    </tr>\n",
              "    <tr>\n",
              "      <th>MN</th>\n",
              "      <td>9004</td>\n",
              "      <td>9004</td>\n",
              "      <td>9004</td>\n",
              "      <td>9004</td>\n",
              "    </tr>\n",
              "    <tr>\n",
              "      <th>MO</th>\n",
              "      <td>9917</td>\n",
              "      <td>9917</td>\n",
              "      <td>9917</td>\n",
              "      <td>9917</td>\n",
              "    </tr>\n",
              "    <tr>\n",
              "      <th>MS</th>\n",
              "      <td>6862</td>\n",
              "      <td>6862</td>\n",
              "      <td>6862</td>\n",
              "      <td>6862</td>\n",
              "    </tr>\n",
              "    <tr>\n",
              "      <th>MT</th>\n",
              "      <td>2986</td>\n",
              "      <td>2986</td>\n",
              "      <td>2986</td>\n",
              "      <td>2986</td>\n",
              "    </tr>\n",
              "    <tr>\n",
              "      <th>NC</th>\n",
              "      <td>13530</td>\n",
              "      <td>13530</td>\n",
              "      <td>13530</td>\n",
              "      <td>13530</td>\n",
              "    </tr>\n",
              "    <tr>\n",
              "      <th>ND</th>\n",
              "      <td>2581</td>\n",
              "      <td>2581</td>\n",
              "      <td>2581</td>\n",
              "      <td>2581</td>\n",
              "    </tr>\n",
              "    <tr>\n",
              "      <th>NE</th>\n",
              "      <td>5029</td>\n",
              "      <td>5029</td>\n",
              "      <td>5029</td>\n",
              "      <td>5029</td>\n",
              "    </tr>\n",
              "    <tr>\n",
              "      <th>NH</th>\n",
              "      <td>2659</td>\n",
              "      <td>2659</td>\n",
              "      <td>2659</td>\n",
              "      <td>2659</td>\n",
              "    </tr>\n",
              "    <tr>\n",
              "      <th>NJ</th>\n",
              "      <td>12274</td>\n",
              "      <td>12274</td>\n",
              "      <td>12274</td>\n",
              "      <td>12274</td>\n",
              "    </tr>\n",
              "    <tr>\n",
              "      <th>NM</th>\n",
              "      <td>4966</td>\n",
              "      <td>4966</td>\n",
              "      <td>4966</td>\n",
              "      <td>4966</td>\n",
              "    </tr>\n",
              "    <tr>\n",
              "      <th>NV</th>\n",
              "      <td>6024</td>\n",
              "      <td>6024</td>\n",
              "      <td>6024</td>\n",
              "      <td>6024</td>\n",
              "    </tr>\n",
              "    <tr>\n",
              "      <th>NY</th>\n",
              "      <td>22585</td>\n",
              "      <td>22585</td>\n",
              "      <td>22585</td>\n",
              "      <td>22585</td>\n",
              "    </tr>\n",
              "    <tr>\n",
              "      <th>OH</th>\n",
              "      <td>14318</td>\n",
              "      <td>14318</td>\n",
              "      <td>14318</td>\n",
              "      <td>14318</td>\n",
              "    </tr>\n",
              "    <tr>\n",
              "      <th>OK</th>\n",
              "      <td>8138</td>\n",
              "      <td>8138</td>\n",
              "      <td>8138</td>\n",
              "      <td>8138</td>\n",
              "    </tr>\n",
              "    <tr>\n",
              "      <th>OR</th>\n",
              "      <td>7333</td>\n",
              "      <td>7333</td>\n",
              "      <td>7333</td>\n",
              "      <td>7333</td>\n",
              "    </tr>\n",
              "    <tr>\n",
              "      <th>PA</th>\n",
              "      <td>14171</td>\n",
              "      <td>14171</td>\n",
              "      <td>14171</td>\n",
              "      <td>14171</td>\n",
              "    </tr>\n",
              "    <tr>\n",
              "      <th>RI</th>\n",
              "      <td>2468</td>\n",
              "      <td>2468</td>\n",
              "      <td>2468</td>\n",
              "      <td>2468</td>\n",
              "    </tr>\n",
              "    <tr>\n",
              "      <th>SC</th>\n",
              "      <td>8195</td>\n",
              "      <td>8195</td>\n",
              "      <td>8195</td>\n",
              "      <td>8195</td>\n",
              "    </tr>\n",
              "    <tr>\n",
              "      <th>SD</th>\n",
              "      <td>2908</td>\n",
              "      <td>2908</td>\n",
              "      <td>2908</td>\n",
              "      <td>2908</td>\n",
              "    </tr>\n",
              "    <tr>\n",
              "      <th>TN</th>\n",
              "      <td>10588</td>\n",
              "      <td>10588</td>\n",
              "      <td>10588</td>\n",
              "      <td>10588</td>\n",
              "    </tr>\n",
              "    <tr>\n",
              "      <th>TX</th>\n",
              "      <td>27791</td>\n",
              "      <td>27791</td>\n",
              "      <td>27791</td>\n",
              "      <td>27791</td>\n",
              "    </tr>\n",
              "    <tr>\n",
              "      <th>UT</th>\n",
              "      <td>8233</td>\n",
              "      <td>8233</td>\n",
              "      <td>8233</td>\n",
              "      <td>8233</td>\n",
              "    </tr>\n",
              "    <tr>\n",
              "      <th>VA</th>\n",
              "      <td>11997</td>\n",
              "      <td>11997</td>\n",
              "      <td>11997</td>\n",
              "      <td>11997</td>\n",
              "    </tr>\n",
              "    <tr>\n",
              "      <th>VT</th>\n",
              "      <td>1618</td>\n",
              "      <td>1618</td>\n",
              "      <td>1618</td>\n",
              "      <td>1618</td>\n",
              "    </tr>\n",
              "    <tr>\n",
              "      <th>WA</th>\n",
              "      <td>11049</td>\n",
              "      <td>11049</td>\n",
              "      <td>11049</td>\n",
              "      <td>11049</td>\n",
              "    </tr>\n",
              "    <tr>\n",
              "      <th>WI</th>\n",
              "      <td>8940</td>\n",
              "      <td>8940</td>\n",
              "      <td>8940</td>\n",
              "      <td>8940</td>\n",
              "    </tr>\n",
              "    <tr>\n",
              "      <th>WV</th>\n",
              "      <td>3733</td>\n",
              "      <td>3733</td>\n",
              "      <td>3733</td>\n",
              "      <td>3733</td>\n",
              "    </tr>\n",
              "    <tr>\n",
              "      <th>WY</th>\n",
              "      <td>1904</td>\n",
              "      <td>1904</td>\n",
              "      <td>1904</td>\n",
              "      <td>1904</td>\n",
              "    </tr>\n",
              "  </tbody>\n",
              "</table>\n",
              "<p>102 rows × 4 columns</p>\n",
              "</div>"
            ],
            "text/plain": [
              "                 Id   Name   Year  Count\n",
              "Gender State                            \n",
              "F      AK      2404   2404   2404   2404\n",
              "       AL      9878   9878   9878   9878\n",
              "       AR      7171   7171   7171   7171\n",
              "       AZ     14518  14518  14518  14518\n",
              "       CA     45144  45144  45144  45144\n",
              "       CO     11424  11424  11424  11424\n",
              "       CT      6575   6575   6575   6575\n",
              "       DC      3053   3053   3053   3053\n",
              "       DE      2549   2549   2549   2549\n",
              "       FL     25781  25781  25781  25781\n",
              "       GA     19385  19385  19385  19385\n",
              "       HI      3255   3255   3255   3255\n",
              "       IA      7131   7131   7131   7131\n",
              "       ID      4918   4918   4918   4918\n",
              "       IL     21268  21268  21268  21268\n",
              "       IN     13056  13056  13056  13056\n",
              "       KS      7753   7753   7753   7753\n",
              "       KY      8817   8817   8817   8817\n",
              "       LA     10510  10510  10510  10510\n",
              "       MA     10580  10580  10580  10580\n",
              "       MD     11276  11276  11276  11276\n",
              "       ME      2976   2976   2976   2976\n",
              "       MI     16038  16038  16038  16038\n",
              "       MN     10677  10677  10677  10677\n",
              "       MO     11948  11948  11948  11948\n",
              "       MS      7235   7235   7235   7235\n",
              "       MT      2690   2690   2690   2690\n",
              "       NC     17357  17357  17357  17357\n",
              "       ND      2399   2399   2399   2399\n",
              "       NE      5370   5370   5370   5370\n",
              "...             ...    ...    ...    ...\n",
              "M      ME      2777   2777   2777   2777\n",
              "       MI     13243  13243  13243  13243\n",
              "       MN      9004   9004   9004   9004\n",
              "       MO      9917   9917   9917   9917\n",
              "       MS      6862   6862   6862   6862\n",
              "       MT      2986   2986   2986   2986\n",
              "       NC     13530  13530  13530  13530\n",
              "       ND      2581   2581   2581   2581\n",
              "       NE      5029   5029   5029   5029\n",
              "       NH      2659   2659   2659   2659\n",
              "       NJ     12274  12274  12274  12274\n",
              "       NM      4966   4966   4966   4966\n",
              "       NV      6024   6024   6024   6024\n",
              "       NY     22585  22585  22585  22585\n",
              "       OH     14318  14318  14318  14318\n",
              "       OK      8138   8138   8138   8138\n",
              "       OR      7333   7333   7333   7333\n",
              "       PA     14171  14171  14171  14171\n",
              "       RI      2468   2468   2468   2468\n",
              "       SC      8195   8195   8195   8195\n",
              "       SD      2908   2908   2908   2908\n",
              "       TN     10588  10588  10588  10588\n",
              "       TX     27791  27791  27791  27791\n",
              "       UT      8233   8233   8233   8233\n",
              "       VA     11997  11997  11997  11997\n",
              "       VT      1618   1618   1618   1618\n",
              "       WA     11049  11049  11049  11049\n",
              "       WI      8940   8940   8940   8940\n",
              "       WV      3733   3733   3733   3733\n",
              "       WY      1904   1904   1904   1904\n",
              "\n",
              "[102 rows x 4 columns]"
            ]
          },
          "metadata": {
            "tags": []
          },
          "execution_count": 189
        }
      ]
    },
    {
      "metadata": {
        "id": "CyMAHlVq1Jtn",
        "colab_type": "code",
        "colab": {}
      },
      "cell_type": "code",
      "source": [
        ""
      ],
      "execution_count": 0,
      "outputs": []
    }
  ]
}